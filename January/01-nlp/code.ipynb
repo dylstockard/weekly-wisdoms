{
 "cells": [
  {
   "cell_type": "markdown",
   "metadata": {},
   "source": [
    "# Intro to Natural Language Processing\n",
    "Dylan Stockard  \n",
    "January 3rd, 2025  \n",
    "Using environment ww-nlp (see requirements.txt)"
   ]
  },
  {
   "cell_type": "markdown",
   "metadata": {},
   "source": [
    "## Tokenizing"
   ]
  },
  {
   "cell_type": "code",
   "execution_count": 3,
   "metadata": {},
   "outputs": [
    {
     "data": {
      "text/plain": [
       "\"\\n    Muad'Dib learned rapidly because his first training was in how to learn.\\n    And the first lesson of all was the basic trust that he could learn.\\n    It's shocking to find how many people do not believe they can learn,\\n    and how many more believe learning to be difficult.\\n    \""
      ]
     },
     "execution_count": 3,
     "metadata": {},
     "output_type": "execute_result"
    }
   ],
   "source": [
    "from nltk.tokenize import sent_tokenize, word_tokenize\n",
    "\n",
    "example_string = \"\"\"\n",
    "    Muad'Dib learned rapidly because his first training was in how to learn.\n",
    "    And the first lesson of all was the basic trust that he could learn.\n",
    "    It's shocking to find how many people do not believe they can learn,\n",
    "    and how many more believe learning to be difficult.\n",
    "    \"\"\"\n",
    "example_string"
   ]
  },
  {
   "cell_type": "code",
   "execution_count": 4,
   "metadata": {},
   "outputs": [
    {
     "data": {
      "text/plain": [
       "[\"\\n    Muad'Dib learned rapidly because his first training was in how to learn.\",\n",
       " 'And the first lesson of all was the basic trust that he could learn.',\n",
       " \"It's shocking to find how many people do not believe they can learn,\\n    and how many more believe learning to be difficult.\"]"
      ]
     },
     "execution_count": 4,
     "metadata": {},
     "output_type": "execute_result"
    }
   ],
   "source": [
    "sent_tokenize(example_string)"
   ]
  }
 ],
 "metadata": {
  "kernelspec": {
   "display_name": "ww-nlp",
   "language": "python",
   "name": "python3"
  },
  "language_info": {
   "codemirror_mode": {
    "name": "ipython",
    "version": 3
   },
   "file_extension": ".py",
   "mimetype": "text/x-python",
   "name": "python",
   "nbconvert_exporter": "python",
   "pygments_lexer": "ipython3",
   "version": "3.12.8"
  }
 },
 "nbformat": 4,
 "nbformat_minor": 2
}
